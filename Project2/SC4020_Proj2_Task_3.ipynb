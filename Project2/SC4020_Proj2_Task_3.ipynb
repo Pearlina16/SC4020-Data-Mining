{
  "nbformat": 4,
  "nbformat_minor": 0,
  "metadata": {
    "colab": {
      "provenance": [],
      "gpuType": "T4"
    },
    "kernelspec": {
      "name": "python3",
      "display_name": "Python 3"
    },
    "language_info": {
      "name": "python"
    },
    "accelerator": "GPU"
  },
  "cells": [
    {
      "cell_type": "code",
      "source": [
        "!pip install trackintel"
      ],
      "metadata": {
        "colab": {
          "base_uri": "https://localhost:8080/"
        },
        "id": "ucPdrlPyGpLx",
        "outputId": "7f503636-399b-4e53-e012-76270ca33465"
      },
      "execution_count": 1,
      "outputs": [
        {
          "output_type": "stream",
          "name": "stdout",
          "text": [
            "Collecting trackintel\n",
            "  Downloading trackintel-1.3.1-py3-none-any.whl.metadata (8.7 kB)\n",
            "Requirement already satisfied: pandas in /usr/local/lib/python3.10/dist-packages (from trackintel) (2.2.2)\n",
            "Requirement already satisfied: geopandas>=0.12.0 in /usr/local/lib/python3.10/dist-packages (from trackintel) (1.0.1)\n",
            "Requirement already satisfied: matplotlib in /usr/local/lib/python3.10/dist-packages (from trackintel) (3.8.0)\n",
            "Requirement already satisfied: numpy in /usr/local/lib/python3.10/dist-packages (from trackintel) (1.26.4)\n",
            "Requirement already satisfied: shapely in /usr/local/lib/python3.10/dist-packages (from trackintel) (2.0.6)\n",
            "Requirement already satisfied: networkx in /usr/local/lib/python3.10/dist-packages (from trackintel) (3.4.2)\n",
            "Collecting geoalchemy2 (from trackintel)\n",
            "  Downloading GeoAlchemy2-0.16.0-py3-none-any.whl.metadata (2.1 kB)\n",
            "Collecting osmnx (from trackintel)\n",
            "  Downloading osmnx-1.9.4-py3-none-any.whl.metadata (4.9 kB)\n",
            "Requirement already satisfied: scikit-learn in /usr/local/lib/python3.10/dist-packages (from trackintel) (1.5.2)\n",
            "Requirement already satisfied: tqdm in /usr/local/lib/python3.10/dist-packages (from trackintel) (4.66.6)\n",
            "Collecting similaritymeasures (from trackintel)\n",
            "  Downloading similaritymeasures-1.2.0.tar.gz (401 kB)\n",
            "\u001b[2K     \u001b[90m━━━━━━━━━━━━━━━━━━━━━━━━━━━━━━━━━━━━━━━━\u001b[0m \u001b[32m401.3/401.3 kB\u001b[0m \u001b[31m17.3 MB/s\u001b[0m eta \u001b[36m0:00:00\u001b[0m\n",
            "\u001b[?25h  Preparing metadata (setup.py) ... \u001b[?25l\u001b[?25hdone\n",
            "Requirement already satisfied: pyogrio>=0.7.2 in /usr/local/lib/python3.10/dist-packages (from geopandas>=0.12.0->trackintel) (0.10.0)\n",
            "Requirement already satisfied: packaging in /usr/local/lib/python3.10/dist-packages (from geopandas>=0.12.0->trackintel) (24.2)\n",
            "Requirement already satisfied: pyproj>=3.3.0 in /usr/local/lib/python3.10/dist-packages (from geopandas>=0.12.0->trackintel) (3.7.0)\n",
            "Requirement already satisfied: python-dateutil>=2.8.2 in /usr/local/lib/python3.10/dist-packages (from pandas->trackintel) (2.8.2)\n",
            "Requirement already satisfied: pytz>=2020.1 in /usr/local/lib/python3.10/dist-packages (from pandas->trackintel) (2024.2)\n",
            "Requirement already satisfied: tzdata>=2022.7 in /usr/local/lib/python3.10/dist-packages (from pandas->trackintel) (2024.2)\n",
            "Requirement already satisfied: SQLAlchemy>=1.4 in /usr/local/lib/python3.10/dist-packages (from geoalchemy2->trackintel) (2.0.36)\n",
            "Requirement already satisfied: contourpy>=1.0.1 in /usr/local/lib/python3.10/dist-packages (from matplotlib->trackintel) (1.3.1)\n",
            "Requirement already satisfied: cycler>=0.10 in /usr/local/lib/python3.10/dist-packages (from matplotlib->trackintel) (0.12.1)\n",
            "Requirement already satisfied: fonttools>=4.22.0 in /usr/local/lib/python3.10/dist-packages (from matplotlib->trackintel) (4.54.1)\n",
            "Requirement already satisfied: kiwisolver>=1.0.1 in /usr/local/lib/python3.10/dist-packages (from matplotlib->trackintel) (1.4.7)\n",
            "Requirement already satisfied: pillow>=6.2.0 in /usr/local/lib/python3.10/dist-packages (from matplotlib->trackintel) (11.0.0)\n",
            "Requirement already satisfied: pyparsing>=2.3.1 in /usr/local/lib/python3.10/dist-packages (from matplotlib->trackintel) (3.2.0)\n",
            "Collecting geopandas>=0.12.0 (from trackintel)\n",
            "  Downloading geopandas-0.14.4-py3-none-any.whl.metadata (1.5 kB)\n",
            "Collecting networkx (from trackintel)\n",
            "  Downloading networkx-3.3-py3-none-any.whl.metadata (5.1 kB)\n",
            "Requirement already satisfied: requests<2.33,>=2.27 in /usr/local/lib/python3.10/dist-packages (from osmnx->trackintel) (2.32.3)\n",
            "Collecting fiona>=1.8.21 (from geopandas>=0.12.0->trackintel)\n",
            "  Downloading fiona-1.10.1-cp310-cp310-manylinux_2_17_x86_64.manylinux2014_x86_64.whl.metadata (56 kB)\n",
            "\u001b[2K     \u001b[90m━━━━━━━━━━━━━━━━━━━━━━━━━━━━━━━━━━━━━━━━\u001b[0m \u001b[32m56.6/56.6 kB\u001b[0m \u001b[31m2.1 MB/s\u001b[0m eta \u001b[36m0:00:00\u001b[0m\n",
            "\u001b[?25hRequirement already satisfied: scipy>=1.6.0 in /usr/local/lib/python3.10/dist-packages (from scikit-learn->trackintel) (1.13.1)\n",
            "Requirement already satisfied: joblib>=1.2.0 in /usr/local/lib/python3.10/dist-packages (from scikit-learn->trackintel) (1.4.2)\n",
            "Requirement already satisfied: threadpoolctl>=3.1.0 in /usr/local/lib/python3.10/dist-packages (from scikit-learn->trackintel) (3.5.0)\n",
            "Requirement already satisfied: attrs>=19.2.0 in /usr/local/lib/python3.10/dist-packages (from fiona>=1.8.21->geopandas>=0.12.0->trackintel) (24.2.0)\n",
            "Requirement already satisfied: certifi in /usr/local/lib/python3.10/dist-packages (from fiona>=1.8.21->geopandas>=0.12.0->trackintel) (2024.8.30)\n",
            "Requirement already satisfied: click~=8.0 in /usr/local/lib/python3.10/dist-packages (from fiona>=1.8.21->geopandas>=0.12.0->trackintel) (8.1.7)\n",
            "Collecting click-plugins>=1.0 (from fiona>=1.8.21->geopandas>=0.12.0->trackintel)\n",
            "  Downloading click_plugins-1.1.1-py2.py3-none-any.whl.metadata (6.4 kB)\n",
            "Collecting cligj>=0.5 (from fiona>=1.8.21->geopandas>=0.12.0->trackintel)\n",
            "  Downloading cligj-0.7.2-py3-none-any.whl.metadata (5.0 kB)\n",
            "Requirement already satisfied: six>=1.5 in /usr/local/lib/python3.10/dist-packages (from python-dateutil>=2.8.2->pandas->trackintel) (1.16.0)\n",
            "Requirement already satisfied: charset-normalizer<4,>=2 in /usr/local/lib/python3.10/dist-packages (from requests<2.33,>=2.27->osmnx->trackintel) (3.4.0)\n",
            "Requirement already satisfied: idna<4,>=2.5 in /usr/local/lib/python3.10/dist-packages (from requests<2.33,>=2.27->osmnx->trackintel) (3.10)\n",
            "Requirement already satisfied: urllib3<3,>=1.21.1 in /usr/local/lib/python3.10/dist-packages (from requests<2.33,>=2.27->osmnx->trackintel) (2.2.3)\n",
            "Requirement already satisfied: typing-extensions>=4.6.0 in /usr/local/lib/python3.10/dist-packages (from SQLAlchemy>=1.4->geoalchemy2->trackintel) (4.12.2)\n",
            "Requirement already satisfied: greenlet!=0.4.17 in /usr/local/lib/python3.10/dist-packages (from SQLAlchemy>=1.4->geoalchemy2->trackintel) (3.1.1)\n",
            "Downloading trackintel-1.3.1-py3-none-any.whl (156 kB)\n",
            "\u001b[2K   \u001b[90m━━━━━━━━━━━━━━━━━━━━━━━━━━━━━━━━━━━━━━━━\u001b[0m \u001b[32m156.1/156.1 kB\u001b[0m \u001b[31m9.6 MB/s\u001b[0m eta \u001b[36m0:00:00\u001b[0m\n",
            "\u001b[?25hDownloading GeoAlchemy2-0.16.0-py3-none-any.whl (74 kB)\n",
            "\u001b[2K   \u001b[90m━━━━━━━━━━━━━━━━━━━━━━━━━━━━━━━━━━━━━━━━\u001b[0m \u001b[32m74.7/74.7 kB\u001b[0m \u001b[31m4.8 MB/s\u001b[0m eta \u001b[36m0:00:00\u001b[0m\n",
            "\u001b[?25hDownloading osmnx-1.9.4-py3-none-any.whl (107 kB)\n",
            "\u001b[2K   \u001b[90m━━━━━━━━━━━━━━━━━━━━━━━━━━━━━━━━━━━━━━━━\u001b[0m \u001b[32m107.5/107.5 kB\u001b[0m \u001b[31m4.7 MB/s\u001b[0m eta \u001b[36m0:00:00\u001b[0m\n",
            "\u001b[?25hDownloading geopandas-0.14.4-py3-none-any.whl (1.1 MB)\n",
            "\u001b[2K   \u001b[90m━━━━━━━━━━━━━━━━━━━━━━━━━━━━━━━━━━━━━━━━\u001b[0m \u001b[32m1.1/1.1 MB\u001b[0m \u001b[31m23.4 MB/s\u001b[0m eta \u001b[36m0:00:00\u001b[0m\n",
            "\u001b[?25hDownloading networkx-3.3-py3-none-any.whl (1.7 MB)\n",
            "\u001b[2K   \u001b[90m━━━━━━━━━━━━━━━━━━━━━━━━━━━━━━━━━━━━━━━━\u001b[0m \u001b[32m1.7/1.7 MB\u001b[0m \u001b[31m45.1 MB/s\u001b[0m eta \u001b[36m0:00:00\u001b[0m\n",
            "\u001b[?25hDownloading fiona-1.10.1-cp310-cp310-manylinux_2_17_x86_64.manylinux2014_x86_64.whl (17.3 MB)\n",
            "\u001b[2K   \u001b[90m━━━━━━━━━━━━━━━━━━━━━━━━━━━━━━━━━━━━━━━━\u001b[0m \u001b[32m17.3/17.3 MB\u001b[0m \u001b[31m54.2 MB/s\u001b[0m eta \u001b[36m0:00:00\u001b[0m\n",
            "\u001b[?25hDownloading click_plugins-1.1.1-py2.py3-none-any.whl (7.5 kB)\n",
            "Downloading cligj-0.7.2-py3-none-any.whl (7.1 kB)\n",
            "Building wheels for collected packages: similaritymeasures\n",
            "  Building wheel for similaritymeasures (setup.py) ... \u001b[?25l\u001b[?25hdone\n",
            "  Created wheel for similaritymeasures: filename=similaritymeasures-1.2.0-py3-none-any.whl size=15433 sha256=bec8d44f7322abc7744a247a4418843842c13c26e02746ec8cc36753a9621b50\n",
            "  Stored in directory: /root/.cache/pip/wheels/0f/8b/4f/b9dd125a4fa600b2d9ee19e728feb3f24bf19bdfd9eeda9191\n",
            "Successfully built similaritymeasures\n",
            "Installing collected packages: networkx, cligj, click-plugins, similaritymeasures, geoalchemy2, fiona, geopandas, osmnx, trackintel\n",
            "  Attempting uninstall: networkx\n",
            "    Found existing installation: networkx 3.4.2\n",
            "    Uninstalling networkx-3.4.2:\n",
            "      Successfully uninstalled networkx-3.4.2\n",
            "  Attempting uninstall: geopandas\n",
            "    Found existing installation: geopandas 1.0.1\n",
            "    Uninstalling geopandas-1.0.1:\n",
            "      Successfully uninstalled geopandas-1.0.1\n",
            "Successfully installed click-plugins-1.1.1 cligj-0.7.2 fiona-1.10.1 geoalchemy2-0.16.0 geopandas-0.14.4 networkx-3.3 osmnx-1.9.4 similaritymeasures-1.2.0 trackintel-1.3.1\n"
          ]
        }
      ]
    },
    {
      "cell_type": "code",
      "source": [
        "import numpy as np\n",
        "import pandas as pd\n",
        "# import dask.dataframe as dd\n",
        "import geopandas as gpd\n",
        "import trackintel as ti\n",
        "from shapely.geometry import Point\n",
        "from shapely.wkt import loads as load_wkt\n",
        "import matplotlib.pyplot as plt\n",
        "from sklearn.metrics.pairwise import cosine_similarity"
      ],
      "metadata": {
        "id": "VcTMbvVFCJFz"
      },
      "execution_count": 2,
      "outputs": []
    },
    {
      "cell_type": "code",
      "source": [
        "from google.colab import drive\n",
        "drive.mount('/content/drive')"
      ],
      "metadata": {
        "colab": {
          "base_uri": "https://localhost:8080/"
        },
        "id": "2lQLdK-p29ok",
        "outputId": "3c1e6ce2-b3b8-4c3f-c525-e2332a25d48c"
      },
      "execution_count": 3,
      "outputs": [
        {
          "output_type": "stream",
          "name": "stdout",
          "text": [
            "Mounted at /content/drive\n"
          ]
        }
      ]
    },
    {
      "cell_type": "code",
      "source": [
        "import pandas as pd\n",
        "\n",
        "mobility_city = pd.read_csv('/content/drive/MyDrive/NTU/Y4S1/cityD_challengedata.csv.gz', compression='gzip')\n",
        "# mobility_cityD = pd.read_csv('test.csv')\n",
        "mobility_city.head(15)"
      ],
      "metadata": {
        "id": "IKnWWTwlB-CF",
        "colab": {
          "base_uri": "https://localhost:8080/",
          "height": 519
        },
        "outputId": "f7660845-74c3-4435-807e-5ebb4a7e2984"
      },
      "execution_count": 4,
      "outputs": [
        {
          "output_type": "execute_result",
          "data": {
            "text/plain": [
              "    uid  d   t    x    y\n",
              "0     0  0  13  133  103\n",
              "1     0  0  14  143   98\n",
              "2     0  0  16  162   99\n",
              "3     0  0  17  149   97\n",
              "4     0  0  18  144   98\n",
              "5     0  0  20  160  100\n",
              "6     0  0  21  155   99\n",
              "7     0  0  22  143   98\n",
              "8     0  0  23  163   94\n",
              "9     0  0  24  146   97\n",
              "10    0  0  26  144   97\n",
              "11    0  0  27  144   99\n",
              "12    0  0  28  150   97\n",
              "13    0  0  29  143   98\n",
              "14    0  0  31  144   98"
            ],
            "text/html": [
              "\n",
              "  <div id=\"df-03691eea-b617-490b-ac34-b84b93644e00\" class=\"colab-df-container\">\n",
              "    <div>\n",
              "<style scoped>\n",
              "    .dataframe tbody tr th:only-of-type {\n",
              "        vertical-align: middle;\n",
              "    }\n",
              "\n",
              "    .dataframe tbody tr th {\n",
              "        vertical-align: top;\n",
              "    }\n",
              "\n",
              "    .dataframe thead th {\n",
              "        text-align: right;\n",
              "    }\n",
              "</style>\n",
              "<table border=\"1\" class=\"dataframe\">\n",
              "  <thead>\n",
              "    <tr style=\"text-align: right;\">\n",
              "      <th></th>\n",
              "      <th>uid</th>\n",
              "      <th>d</th>\n",
              "      <th>t</th>\n",
              "      <th>x</th>\n",
              "      <th>y</th>\n",
              "    </tr>\n",
              "  </thead>\n",
              "  <tbody>\n",
              "    <tr>\n",
              "      <th>0</th>\n",
              "      <td>0</td>\n",
              "      <td>0</td>\n",
              "      <td>13</td>\n",
              "      <td>133</td>\n",
              "      <td>103</td>\n",
              "    </tr>\n",
              "    <tr>\n",
              "      <th>1</th>\n",
              "      <td>0</td>\n",
              "      <td>0</td>\n",
              "      <td>14</td>\n",
              "      <td>143</td>\n",
              "      <td>98</td>\n",
              "    </tr>\n",
              "    <tr>\n",
              "      <th>2</th>\n",
              "      <td>0</td>\n",
              "      <td>0</td>\n",
              "      <td>16</td>\n",
              "      <td>162</td>\n",
              "      <td>99</td>\n",
              "    </tr>\n",
              "    <tr>\n",
              "      <th>3</th>\n",
              "      <td>0</td>\n",
              "      <td>0</td>\n",
              "      <td>17</td>\n",
              "      <td>149</td>\n",
              "      <td>97</td>\n",
              "    </tr>\n",
              "    <tr>\n",
              "      <th>4</th>\n",
              "      <td>0</td>\n",
              "      <td>0</td>\n",
              "      <td>18</td>\n",
              "      <td>144</td>\n",
              "      <td>98</td>\n",
              "    </tr>\n",
              "    <tr>\n",
              "      <th>5</th>\n",
              "      <td>0</td>\n",
              "      <td>0</td>\n",
              "      <td>20</td>\n",
              "      <td>160</td>\n",
              "      <td>100</td>\n",
              "    </tr>\n",
              "    <tr>\n",
              "      <th>6</th>\n",
              "      <td>0</td>\n",
              "      <td>0</td>\n",
              "      <td>21</td>\n",
              "      <td>155</td>\n",
              "      <td>99</td>\n",
              "    </tr>\n",
              "    <tr>\n",
              "      <th>7</th>\n",
              "      <td>0</td>\n",
              "      <td>0</td>\n",
              "      <td>22</td>\n",
              "      <td>143</td>\n",
              "      <td>98</td>\n",
              "    </tr>\n",
              "    <tr>\n",
              "      <th>8</th>\n",
              "      <td>0</td>\n",
              "      <td>0</td>\n",
              "      <td>23</td>\n",
              "      <td>163</td>\n",
              "      <td>94</td>\n",
              "    </tr>\n",
              "    <tr>\n",
              "      <th>9</th>\n",
              "      <td>0</td>\n",
              "      <td>0</td>\n",
              "      <td>24</td>\n",
              "      <td>146</td>\n",
              "      <td>97</td>\n",
              "    </tr>\n",
              "    <tr>\n",
              "      <th>10</th>\n",
              "      <td>0</td>\n",
              "      <td>0</td>\n",
              "      <td>26</td>\n",
              "      <td>144</td>\n",
              "      <td>97</td>\n",
              "    </tr>\n",
              "    <tr>\n",
              "      <th>11</th>\n",
              "      <td>0</td>\n",
              "      <td>0</td>\n",
              "      <td>27</td>\n",
              "      <td>144</td>\n",
              "      <td>99</td>\n",
              "    </tr>\n",
              "    <tr>\n",
              "      <th>12</th>\n",
              "      <td>0</td>\n",
              "      <td>0</td>\n",
              "      <td>28</td>\n",
              "      <td>150</td>\n",
              "      <td>97</td>\n",
              "    </tr>\n",
              "    <tr>\n",
              "      <th>13</th>\n",
              "      <td>0</td>\n",
              "      <td>0</td>\n",
              "      <td>29</td>\n",
              "      <td>143</td>\n",
              "      <td>98</td>\n",
              "    </tr>\n",
              "    <tr>\n",
              "      <th>14</th>\n",
              "      <td>0</td>\n",
              "      <td>0</td>\n",
              "      <td>31</td>\n",
              "      <td>144</td>\n",
              "      <td>98</td>\n",
              "    </tr>\n",
              "  </tbody>\n",
              "</table>\n",
              "</div>\n",
              "    <div class=\"colab-df-buttons\">\n",
              "\n",
              "  <div class=\"colab-df-container\">\n",
              "    <button class=\"colab-df-convert\" onclick=\"convertToInteractive('df-03691eea-b617-490b-ac34-b84b93644e00')\"\n",
              "            title=\"Convert this dataframe to an interactive table.\"\n",
              "            style=\"display:none;\">\n",
              "\n",
              "  <svg xmlns=\"http://www.w3.org/2000/svg\" height=\"24px\" viewBox=\"0 -960 960 960\">\n",
              "    <path d=\"M120-120v-720h720v720H120Zm60-500h600v-160H180v160Zm220 220h160v-160H400v160Zm0 220h160v-160H400v160ZM180-400h160v-160H180v160Zm440 0h160v-160H620v160ZM180-180h160v-160H180v160Zm440 0h160v-160H620v160Z\"/>\n",
              "  </svg>\n",
              "    </button>\n",
              "\n",
              "  <style>\n",
              "    .colab-df-container {\n",
              "      display:flex;\n",
              "      gap: 12px;\n",
              "    }\n",
              "\n",
              "    .colab-df-convert {\n",
              "      background-color: #E8F0FE;\n",
              "      border: none;\n",
              "      border-radius: 50%;\n",
              "      cursor: pointer;\n",
              "      display: none;\n",
              "      fill: #1967D2;\n",
              "      height: 32px;\n",
              "      padding: 0 0 0 0;\n",
              "      width: 32px;\n",
              "    }\n",
              "\n",
              "    .colab-df-convert:hover {\n",
              "      background-color: #E2EBFA;\n",
              "      box-shadow: 0px 1px 2px rgba(60, 64, 67, 0.3), 0px 1px 3px 1px rgba(60, 64, 67, 0.15);\n",
              "      fill: #174EA6;\n",
              "    }\n",
              "\n",
              "    .colab-df-buttons div {\n",
              "      margin-bottom: 4px;\n",
              "    }\n",
              "\n",
              "    [theme=dark] .colab-df-convert {\n",
              "      background-color: #3B4455;\n",
              "      fill: #D2E3FC;\n",
              "    }\n",
              "\n",
              "    [theme=dark] .colab-df-convert:hover {\n",
              "      background-color: #434B5C;\n",
              "      box-shadow: 0px 1px 3px 1px rgba(0, 0, 0, 0.15);\n",
              "      filter: drop-shadow(0px 1px 2px rgba(0, 0, 0, 0.3));\n",
              "      fill: #FFFFFF;\n",
              "    }\n",
              "  </style>\n",
              "\n",
              "    <script>\n",
              "      const buttonEl =\n",
              "        document.querySelector('#df-03691eea-b617-490b-ac34-b84b93644e00 button.colab-df-convert');\n",
              "      buttonEl.style.display =\n",
              "        google.colab.kernel.accessAllowed ? 'block' : 'none';\n",
              "\n",
              "      async function convertToInteractive(key) {\n",
              "        const element = document.querySelector('#df-03691eea-b617-490b-ac34-b84b93644e00');\n",
              "        const dataTable =\n",
              "          await google.colab.kernel.invokeFunction('convertToInteractive',\n",
              "                                                    [key], {});\n",
              "        if (!dataTable) return;\n",
              "\n",
              "        const docLinkHtml = 'Like what you see? Visit the ' +\n",
              "          '<a target=\"_blank\" href=https://colab.research.google.com/notebooks/data_table.ipynb>data table notebook</a>'\n",
              "          + ' to learn more about interactive tables.';\n",
              "        element.innerHTML = '';\n",
              "        dataTable['output_type'] = 'display_data';\n",
              "        await google.colab.output.renderOutput(dataTable, element);\n",
              "        const docLink = document.createElement('div');\n",
              "        docLink.innerHTML = docLinkHtml;\n",
              "        element.appendChild(docLink);\n",
              "      }\n",
              "    </script>\n",
              "  </div>\n",
              "\n",
              "\n",
              "<div id=\"df-0eb05e88-3254-4c76-bdc2-e4d000de5c0b\">\n",
              "  <button class=\"colab-df-quickchart\" onclick=\"quickchart('df-0eb05e88-3254-4c76-bdc2-e4d000de5c0b')\"\n",
              "            title=\"Suggest charts\"\n",
              "            style=\"display:none;\">\n",
              "\n",
              "<svg xmlns=\"http://www.w3.org/2000/svg\" height=\"24px\"viewBox=\"0 0 24 24\"\n",
              "     width=\"24px\">\n",
              "    <g>\n",
              "        <path d=\"M19 3H5c-1.1 0-2 .9-2 2v14c0 1.1.9 2 2 2h14c1.1 0 2-.9 2-2V5c0-1.1-.9-2-2-2zM9 17H7v-7h2v7zm4 0h-2V7h2v10zm4 0h-2v-4h2v4z\"/>\n",
              "    </g>\n",
              "</svg>\n",
              "  </button>\n",
              "\n",
              "<style>\n",
              "  .colab-df-quickchart {\n",
              "      --bg-color: #E8F0FE;\n",
              "      --fill-color: #1967D2;\n",
              "      --hover-bg-color: #E2EBFA;\n",
              "      --hover-fill-color: #174EA6;\n",
              "      --disabled-fill-color: #AAA;\n",
              "      --disabled-bg-color: #DDD;\n",
              "  }\n",
              "\n",
              "  [theme=dark] .colab-df-quickchart {\n",
              "      --bg-color: #3B4455;\n",
              "      --fill-color: #D2E3FC;\n",
              "      --hover-bg-color: #434B5C;\n",
              "      --hover-fill-color: #FFFFFF;\n",
              "      --disabled-bg-color: #3B4455;\n",
              "      --disabled-fill-color: #666;\n",
              "  }\n",
              "\n",
              "  .colab-df-quickchart {\n",
              "    background-color: var(--bg-color);\n",
              "    border: none;\n",
              "    border-radius: 50%;\n",
              "    cursor: pointer;\n",
              "    display: none;\n",
              "    fill: var(--fill-color);\n",
              "    height: 32px;\n",
              "    padding: 0;\n",
              "    width: 32px;\n",
              "  }\n",
              "\n",
              "  .colab-df-quickchart:hover {\n",
              "    background-color: var(--hover-bg-color);\n",
              "    box-shadow: 0 1px 2px rgba(60, 64, 67, 0.3), 0 1px 3px 1px rgba(60, 64, 67, 0.15);\n",
              "    fill: var(--button-hover-fill-color);\n",
              "  }\n",
              "\n",
              "  .colab-df-quickchart-complete:disabled,\n",
              "  .colab-df-quickchart-complete:disabled:hover {\n",
              "    background-color: var(--disabled-bg-color);\n",
              "    fill: var(--disabled-fill-color);\n",
              "    box-shadow: none;\n",
              "  }\n",
              "\n",
              "  .colab-df-spinner {\n",
              "    border: 2px solid var(--fill-color);\n",
              "    border-color: transparent;\n",
              "    border-bottom-color: var(--fill-color);\n",
              "    animation:\n",
              "      spin 1s steps(1) infinite;\n",
              "  }\n",
              "\n",
              "  @keyframes spin {\n",
              "    0% {\n",
              "      border-color: transparent;\n",
              "      border-bottom-color: var(--fill-color);\n",
              "      border-left-color: var(--fill-color);\n",
              "    }\n",
              "    20% {\n",
              "      border-color: transparent;\n",
              "      border-left-color: var(--fill-color);\n",
              "      border-top-color: var(--fill-color);\n",
              "    }\n",
              "    30% {\n",
              "      border-color: transparent;\n",
              "      border-left-color: var(--fill-color);\n",
              "      border-top-color: var(--fill-color);\n",
              "      border-right-color: var(--fill-color);\n",
              "    }\n",
              "    40% {\n",
              "      border-color: transparent;\n",
              "      border-right-color: var(--fill-color);\n",
              "      border-top-color: var(--fill-color);\n",
              "    }\n",
              "    60% {\n",
              "      border-color: transparent;\n",
              "      border-right-color: var(--fill-color);\n",
              "    }\n",
              "    80% {\n",
              "      border-color: transparent;\n",
              "      border-right-color: var(--fill-color);\n",
              "      border-bottom-color: var(--fill-color);\n",
              "    }\n",
              "    90% {\n",
              "      border-color: transparent;\n",
              "      border-bottom-color: var(--fill-color);\n",
              "    }\n",
              "  }\n",
              "</style>\n",
              "\n",
              "  <script>\n",
              "    async function quickchart(key) {\n",
              "      const quickchartButtonEl =\n",
              "        document.querySelector('#' + key + ' button');\n",
              "      quickchartButtonEl.disabled = true;  // To prevent multiple clicks.\n",
              "      quickchartButtonEl.classList.add('colab-df-spinner');\n",
              "      try {\n",
              "        const charts = await google.colab.kernel.invokeFunction(\n",
              "            'suggestCharts', [key], {});\n",
              "      } catch (error) {\n",
              "        console.error('Error during call to suggestCharts:', error);\n",
              "      }\n",
              "      quickchartButtonEl.classList.remove('colab-df-spinner');\n",
              "      quickchartButtonEl.classList.add('colab-df-quickchart-complete');\n",
              "    }\n",
              "    (() => {\n",
              "      let quickchartButtonEl =\n",
              "        document.querySelector('#df-0eb05e88-3254-4c76-bdc2-e4d000de5c0b button');\n",
              "      quickchartButtonEl.style.display =\n",
              "        google.colab.kernel.accessAllowed ? 'block' : 'none';\n",
              "    })();\n",
              "  </script>\n",
              "</div>\n",
              "\n",
              "    </div>\n",
              "  </div>\n"
            ],
            "application/vnd.google.colaboratory.intrinsic+json": {
              "type": "dataframe",
              "variable_name": "mobility_city"
            }
          },
          "metadata": {},
          "execution_count": 4
        }
      ]
    },
    {
      "cell_type": "code",
      "source": [
        "poi_city = pd.read_csv('/content/drive/MyDrive/NTU/Y4S1/POIdata_cityD.csv')\n",
        "poi_categories = pd.read_csv('/content/POI_datacategories.csv')\n",
        "# print(poi_city.head())"
      ],
      "metadata": {
        "id": "iAOS13_66H0I"
      },
      "execution_count": 6,
      "outputs": []
    },
    {
      "cell_type": "code",
      "source": [
        "# Check if category IDs in POI data map to indices in the categories file\n",
        "poi_categories.reset_index(inplace=True)\n",
        "poi_categories.columns = ['category', 'category_name']  # Rename columns for clarity\n",
        "\n",
        "# Ensure that category indices match those in POI data\n",
        "category_mapping = dict(zip(poi_categories['category'], poi_categories['category_name']))\n",
        "\n",
        "# Map the category names to the POI data\n",
        "poi_city['category_name'] = poi_city['category'].map(category_mapping)"
      ],
      "metadata": {
        "id": "reMhT9GxQxsy"
      },
      "execution_count": 7,
      "outputs": []
    },
    {
      "cell_type": "markdown",
      "source": [
        "### **EDA (Mobility Data)**"
      ],
      "metadata": {
        "id": "oAZk-NIbKrLs"
      }
    },
    {
      "cell_type": "code",
      "source": [
        "# Convert date and time to a single datetime column if needed\n",
        "# Identify rows with invalid coordinates\n",
        "invalid_coordinates = mobility_city[\n",
        "    (mobility_city['x'] < 1) | (mobility_city['x'] > 500) |\n",
        "    (mobility_city['y'] < 1) | (mobility_city['y'] > 500) |\n",
        "    (mobility_city['x'] == 999) | (mobility_city['y'] == 999)\n",
        "]\n",
        "\n",
        "# Group by date to see which days have invalid coordinates\n",
        "invalid_days = invalid_coordinates.groupby(invalid_coordinates['d']).size()\n",
        "\n",
        "# Print the results\n",
        "print(\"Days with invalid coordinates (out of grid):\")\n",
        "print(invalid_days)\n",
        "\n",
        "# Determine the minimum and maximum values for x and y\n",
        "min_x = mobility_city['x'].min()\n",
        "max_x = mobility_city['x'].max()\n",
        "min_y = mobility_city['y'].min()\n",
        "max_y = mobility_city['y'].max()"
      ],
      "metadata": {
        "colab": {
          "base_uri": "https://localhost:8080/"
        },
        "id": "i2FMaMkNH-r9",
        "outputId": "48cbf6cd-05da-40f8-a7ba-989c4a68fa9a"
      },
      "execution_count": 8,
      "outputs": [
        {
          "output_type": "stream",
          "name": "stdout",
          "text": [
            "Days with invalid coordinates (out of grid):\n",
            "d\n",
            "60    55196\n",
            "61    57174\n",
            "62    51596\n",
            "63    45680\n",
            "64    56110\n",
            "65    58546\n",
            "66    65679\n",
            "67    59396\n",
            "68    57548\n",
            "69    49668\n",
            "70    44252\n",
            "71    56476\n",
            "72    56591\n",
            "73    55630\n",
            "74    55191\n",
            "dtype: int64\n"
          ]
        }
      ]
    },
    {
      "cell_type": "code",
      "source": [
        "# Filter and drop rows with invalid coordinates for days passing 30 and invalid days\n",
        "mobility_city = mobility_city[~((mobility_city['d'] > 31) | ((mobility_city['x'] < 1) | (mobility_city['x'] > 500) |\n",
        "                                    (mobility_city['y'] < 1) | (mobility_city['y'] > 500) |\n",
        "                                    (mobility_city['x'] == 999) | (mobility_city['y'] == 999)))]\n",
        "\n",
        "# Optionally, reset the index after dropping\n",
        "mobility_city.reset_index(drop=True, inplace=True)\n",
        "\n",
        "# Print the cleaned DataFrame shape\n",
        "print(\"Cleaned DataFrame Shape:\", mobility_city.shape)\n",
        "\n",
        "# Step 1: Rename columns to match trackintel requirements\n",
        "mobility_city.rename(columns={'uid': 'user_id'}, inplace=True)\n",
        "\n",
        "# Step 2: Combine date (`d`) and time (`t`) into a datetime column, `tracked_at`\n",
        "base_date = pd.Timestamp(\"2024-01-01\")  # Adjust 'base_date' accordingly\n",
        "base_date = base_date.tz_localize('UTC')\n",
        "\n",
        "# Convert t to timedelta in minutes (30 minutes per unit of t)\n",
        "mobility_city['tracked_at'] = base_date + pd.to_timedelta(mobility_city['d'], unit='D') + \\\n",
        "                                pd.to_timedelta(mobility_city['t'] * 30, unit='m')\n",
        "# Step 3: Create `geom` column\n",
        "mobility_city['geom'] = mobility_city.apply(lambda row: Point(row['x'], row['y']), axis=1)\n",
        "\n",
        "print(mobility_city.head(35))\n",
        "\n",
        "# Step 4: Remove unnecessary columns\n",
        "mobility_city = mobility_city[['user_id', 'tracked_at', 'geom']]\n",
        "\n",
        "# Convert to GeoDataFrame\n",
        "pfs_city = gpd.GeoDataFrame(mobility_city, geometry='geom')\n",
        "pfs_city = pfs_city.set_crs(\"EPSG:3344\", allow_override=True)"
      ],
      "metadata": {
        "colab": {
          "base_uri": "https://localhost:8080/"
        },
        "id": "wA4vJWubIHDE",
        "outputId": "648cc0fb-c571-44ca-b988-3e4778f67c5c"
      },
      "execution_count": 9,
      "outputs": [
        {
          "output_type": "stream",
          "name": "stdout",
          "text": [
            "Cleaned DataFrame Shape: (3624259, 5)\n"
          ]
        },
        {
          "output_type": "stream",
          "name": "stderr",
          "text": [
            "<ipython-input-9-6604d79d2bf2>:13: SettingWithCopyWarning: \n",
            "A value is trying to be set on a copy of a slice from a DataFrame\n",
            "\n",
            "See the caveats in the documentation: https://pandas.pydata.org/pandas-docs/stable/user_guide/indexing.html#returning-a-view-versus-a-copy\n",
            "  mobility_city.rename(columns={'uid': 'user_id'}, inplace=True)\n"
          ]
        },
        {
          "output_type": "stream",
          "name": "stdout",
          "text": [
            "    user_id  d   t    x    y                tracked_at             geom\n",
            "0         0  0  13  133  103 2024-01-01 06:30:00+00:00  POINT (133 103)\n",
            "1         0  0  14  143   98 2024-01-01 07:00:00+00:00   POINT (143 98)\n",
            "2         0  0  16  162   99 2024-01-01 08:00:00+00:00   POINT (162 99)\n",
            "3         0  0  17  149   97 2024-01-01 08:30:00+00:00   POINT (149 97)\n",
            "4         0  0  18  144   98 2024-01-01 09:00:00+00:00   POINT (144 98)\n",
            "5         0  0  20  160  100 2024-01-01 10:00:00+00:00  POINT (160 100)\n",
            "6         0  0  21  155   99 2024-01-01 10:30:00+00:00   POINT (155 99)\n",
            "7         0  0  22  143   98 2024-01-01 11:00:00+00:00   POINT (143 98)\n",
            "8         0  0  23  163   94 2024-01-01 11:30:00+00:00   POINT (163 94)\n",
            "9         0  0  24  146   97 2024-01-01 12:00:00+00:00   POINT (146 97)\n",
            "10        0  0  26  144   97 2024-01-01 13:00:00+00:00   POINT (144 97)\n",
            "11        0  0  27  144   99 2024-01-01 13:30:00+00:00   POINT (144 99)\n",
            "12        0  0  28  150   97 2024-01-01 14:00:00+00:00   POINT (150 97)\n",
            "13        0  0  29  143   98 2024-01-01 14:30:00+00:00   POINT (143 98)\n",
            "14        0  0  31  144   98 2024-01-01 15:30:00+00:00   POINT (144 98)\n",
            "15        0  0  33  153   99 2024-01-01 16:30:00+00:00   POINT (153 99)\n",
            "16        0  0  34  164   93 2024-01-01 17:00:00+00:00   POINT (164 93)\n",
            "17        0  0  35  144   98 2024-01-01 17:30:00+00:00   POINT (144 98)\n",
            "18        0  0  36  156   99 2024-01-01 18:00:00+00:00   POINT (156 99)\n",
            "19        0  0  37  144   98 2024-01-01 18:30:00+00:00   POINT (144 98)\n",
            "20        0  0  38  143   98 2024-01-01 19:00:00+00:00   POINT (143 98)\n",
            "21        0  0  39  144   94 2024-01-01 19:30:00+00:00   POINT (144 94)\n",
            "22        0  0  40  132  103 2024-01-01 20:00:00+00:00  POINT (132 103)\n",
            "23        0  0  42  120  103 2024-01-01 21:00:00+00:00  POINT (120 103)\n",
            "24        0  0  43  119  107 2024-01-01 21:30:00+00:00  POINT (119 107)\n",
            "25        0  0  44  117   94 2024-01-01 22:00:00+00:00   POINT (117 94)\n",
            "26        0  1   0  117   94 2024-01-02 00:00:00+00:00   POINT (117 94)\n",
            "27        0  1  16  115   93 2024-01-02 08:00:00+00:00   POINT (115 93)\n",
            "28        0  1  17  114  114 2024-01-02 08:30:00+00:00  POINT (114 114)\n",
            "29        0  1  18  119  120 2024-01-02 09:00:00+00:00  POINT (119 120)\n",
            "30        0  1  19  137  101 2024-01-02 09:30:00+00:00  POINT (137 101)\n",
            "31        0  1  20  132   99 2024-01-02 10:00:00+00:00   POINT (132 99)\n",
            "32        0  1  21  133  103 2024-01-02 10:30:00+00:00  POINT (133 103)\n",
            "33        0  1  22  122   99 2024-01-02 11:00:00+00:00   POINT (122 99)\n",
            "34        0  1  24  120   99 2024-01-02 12:00:00+00:00   POINT (120 99)\n"
          ]
        }
      ]
    },
    {
      "cell_type": "code",
      "source": [
        "print(\"Positionfixes:\")\n",
        "print(\"Number of Positionfixes:\", pfs_city.shape[0])  # Number of rows in Positionfixes\n",
        "print(pfs_city.head())\n",
        "\n",
        "# Function to check if a Point object is within the valid range\n",
        "def is_valid_point(point):\n",
        "    return 0 <= point.x <= 200 and 0 <= point.y <= 200\n",
        "\n",
        "# Check for valid coordinates in the 'points' column\n",
        "valid_positionfixes = pfs_city[pfs_city['geom'].apply(is_valid_point)]\n",
        "\n",
        "# Find the invalid position fixes\n",
        "invalid_positionfixes = pfs_city[~pfs_city.index.isin(valid_positionfixes.index)]\n",
        "\n",
        "# Display the count and the invalid position fixes\n",
        "print(\"Total Position Fixes:\", len(pfs_city))\n",
        "print(\"Total Invalid Position Fixes:\", len(invalid_positionfixes))\n",
        "\n",
        "if not invalid_positionfixes.empty:\n",
        "    print(\"Invalid Position Fixes:\")\n",
        "    print(invalid_positionfixes[['user_id', 'tracked_at', 'geom', 'points']])\n",
        "else:\n",
        "    print(\"All Position Fixes are within the valid range.\")"
      ],
      "metadata": {
        "colab": {
          "base_uri": "https://localhost:8080/"
        },
        "id": "CD4W9r42JIu4",
        "outputId": "437c8260-112c-457b-f6c2-e6896a1a6d49"
      },
      "execution_count": 10,
      "outputs": [
        {
          "output_type": "stream",
          "name": "stdout",
          "text": [
            "Positionfixes:\n",
            "Number of Positionfixes: 3624259\n",
            "   user_id                tracked_at                     geom\n",
            "0        0 2024-01-01 06:30:00+00:00  POINT (133.000 103.000)\n",
            "1        0 2024-01-01 07:00:00+00:00   POINT (143.000 98.000)\n",
            "2        0 2024-01-01 08:00:00+00:00   POINT (162.000 99.000)\n",
            "3        0 2024-01-01 08:30:00+00:00   POINT (149.000 97.000)\n",
            "4        0 2024-01-01 09:00:00+00:00   POINT (144.000 98.000)\n",
            "Total Position Fixes: 3624259\n",
            "Total Invalid Position Fixes: 0\n",
            "All Position Fixes are within the valid range.\n"
          ]
        }
      ]
    },
    {
      "cell_type": "markdown",
      "source": [
        "### **EDA (POI Data)**"
      ],
      "metadata": {
        "id": "PzgtD1DlKnPh"
      }
    },
    {
      "cell_type": "code",
      "source": [
        "# Convert POIs to a GeoDataFrame to work with spatial operations\n",
        "poi_city['geom'] = poi_city.apply(lambda row: Point(row['x'], row['y']), axis=1)\n",
        "# Step 4: Remove unnecessary columns\n",
        "poi_city = poi_city[['category_name', 'POI_count', 'geom']]\n",
        "poi_city = gpd.GeoDataFrame(poi_city, geometry='geom')\n",
        "print(poi_city.head())"
      ],
      "metadata": {
        "colab": {
          "base_uri": "https://localhost:8080/"
        },
        "id": "7rjnk-lRKiv3",
        "outputId": "7a76db19-c2ac-46a4-9321-bb1f34d9c0ba"
      },
      "execution_count": 11,
      "outputs": [
        {
          "output_type": "stream",
          "name": "stdout",
          "text": [
            "     category_name  POI_count                      geom\n",
            "0  Transit Station          1  POINT (1.00000 11.00000)\n",
            "1         Laundry           2  POINT (1.00000 55.00000)\n",
            "2           Casino          1  POINT (1.00000 55.00000)\n",
            "3    Lawyer Office          1  POINT (1.00000 56.00000)\n",
            "4        IT Office          1  POINT (1.00000 56.00000)\n"
          ]
        }
      ]
    },
    {
      "cell_type": "markdown",
      "source": [
        "# 2. Generate Staypoints and Triplegs\n"
      ],
      "metadata": {
        "id": "Kt1zhYURKuWJ"
      }
    },
    {
      "cell_type": "code",
      "source": [
        "pfs_city, sp_city = ti.preprocessing.generate_staypoints(\n",
        "    pfs_city,\n",
        "    method='sliding',\n",
        "    gap_threshold=3*60, # To avoid including too large missing signal gaps, set ‘gap_threshold’ to a small value, e.g., 15 min.\n",
        "    include_last=False,\n",
        "    print_progress=True,\n",
        "    dist_threshold=100, # Maximum distance in meters (10 grids)\n",
        "    time_threshold=6*60,\n",
        "    exclude_duplicate_pfs=True,  # Duplicates can lead to problems in later processing steps (e.g., when generating triplegs). It is not recommended to set this to False.\n",
        "    n_jobs=5 # Number of parallel jobs for processing\n",
        ")"
      ],
      "metadata": {
        "colab": {
          "base_uri": "https://localhost:8080/"
        },
        "id": "COm_1QsjKt_F",
        "outputId": "1d71eb89-3396-4075-e40e-797bff763b86"
      },
      "execution_count": 12,
      "outputs": [
        {
          "output_type": "stream",
          "name": "stderr",
          "text": [
            "100%|██████████| 5984/5984 [02:45<00:00, 36.16it/s]\n"
          ]
        }
      ]
    },
    {
      "cell_type": "code",
      "source": [
        "print(\"\\nStaypoints:\")\n",
        "print(\"Number of Staypoints:\", sp_city.shape[0])  # Number of rows in staypoints\n",
        "print(sp_city.head())"
      ],
      "metadata": {
        "colab": {
          "base_uri": "https://localhost:8080/"
        },
        "id": "oxuOCj-UK4vr",
        "outputId": "297e0cc8-6a63-4af0-916b-5834fece8541"
      },
      "execution_count": 13,
      "outputs": [
        {
          "output_type": "stream",
          "name": "stdout",
          "text": [
            "\n",
            "Staypoints:\n",
            "Number of Staypoints: 9344\n",
            "    user_id                started_at               finished_at  \\\n",
            "id                                                                \n",
            "0         1 2024-01-02 10:00:00+00:00 2024-01-02 16:00:00+00:00   \n",
            "1         1 2024-01-10 16:30:00+00:00 2024-01-10 22:30:00+00:00   \n",
            "2         3 2024-01-01 23:30:00+00:00 2024-01-02 05:30:00+00:00   \n",
            "3         8 2024-01-23 23:00:00+00:00 2024-01-24 06:30:00+00:00   \n",
            "4         8 2024-01-31 21:30:00+00:00 2024-02-01 03:30:00+00:00   \n",
            "\n",
            "                       geom  \n",
            "id                           \n",
            "0      POINT (33.000 7.000)  \n",
            "1      POINT (31.000 1.000)  \n",
            "2     POINT (191.000 1.000)  \n",
            "3   POINT (112.000 133.000)  \n",
            "4   POINT (112.000 133.000)  \n"
          ]
        }
      ]
    },
    {
      "cell_type": "code",
      "source": [
        "# Extract the coordinates of each LINESTRING into a new column\n",
        "sp_city['points'] = sp_city['geom'].apply(lambda geom: list(geom.coords))\n",
        "\n",
        "# Flatten the list to create a DataFrame of individual points\n",
        "staypoints = sp_city.explode('points')\n",
        "\n",
        "# Create a GeoDataFrame from the exploded points\n",
        "staypoints['geometry'] = gpd.points_from_xy(*zip(*staypoints['points']))\n",
        "staypoints = gpd.GeoDataFrame(staypoints, geometry='geometry')\n",
        "\n",
        "# Plotting the individual staypoints\n",
        "staypoints.plot(marker='o', color='blue', markersize=5)\n",
        "plt.title('Staypoints')\n",
        "plt.xlabel('x')\n",
        "plt.ylabel('y')\n",
        "plt.show()"
      ],
      "metadata": {
        "colab": {
          "base_uri": "https://localhost:8080/",
          "height": 472
        },
        "id": "rvO32ALSK70P",
        "outputId": "88a01766-e733-42e2-9e1e-8452100b7782"
      },
      "execution_count": 14,
      "outputs": [
        {
          "output_type": "display_data",
          "data": {
            "text/plain": [
              "<Figure size 640x480 with 1 Axes>"
            ],
            "image/png": "[encoded data removed]"
          },
          "metadata": {}
        }
      ]
    },
    {
      "cell_type": "code",
      "source": [
        "# Step 2: Generate triplegs from staypoints\n",
        "pfs_city, tpls_city = ti.preprocessing.generate_triplegs(\n",
        "    pfs_city,\n",
        "    sp_city,\n",
        "    method='overlap_staypoints',\n",
        "    gap_threshold = 60 * 6\n",
        ")\n",
        "\n",
        "# gap_threshold determines how much time can pass between two staypoints for them to be considered part of the same tripleg.\n",
        "# Step 3: Display the number of rows and generated staypoints and triplegs\n",
        "\n",
        "print(\"\\nNumber of Triplegs:\", tpls_city.shape[0])  # Number of rows in triplegs\n",
        "print(\"Triplegs:\")\n",
        "print(tpls_city.head().to_string())"
      ],
      "metadata": {
        "colab": {
          "base_uri": "https://localhost:8080/"
        },
        "id": "bvcTb4bZK9vC",
        "outputId": "712bdd31-2455-41f2-8040-2aea5dcf7ab0"
      },
      "execution_count": 15,
      "outputs": [
        {
          "output_type": "stream",
          "name": "stderr",
          "text": [
            "/usr/local/lib/python3.10/dist-packages/trackintel/preprocessing/positionfixes.py:361: FutureWarning: Downcasting object dtype arrays on .fillna, .ffill, .bfill is deprecated and will change in a future version. Call result.infer_objects(copy=False) instead. To opt-in to the future behavior, set `pd.set_option('future.no_silent_downcasting', True)`\n",
            "  pfs[\"tripleg_id\"] = pfs[\"tripleg_id\"].ffill()\n",
            "/usr/local/lib/python3.10/dist-packages/trackintel/preprocessing/positionfixes.py:440: FutureWarning: Downcasting object dtype arrays on .fillna, .ffill, .bfill is deprecated and will change in a future version. Call result.infer_objects(copy=False) instead. To opt-in to the future behavior, set `pd.set_option('future.no_silent_downcasting', True)`\n",
            "  cond_overlap_end = cond_overlap & ~cond_temporal_gap.shift(-1).fillna(False) & pd.isna(pfs[\"tripleg_id\"])\n",
            "/usr/local/lib/python3.10/dist-packages/trackintel/preprocessing/positionfixes.py:573: UserWarning: The positionfixes with ids [   1969    1970    2835 ... 3617363 3623394 3623395] lead to invalid tripleg geometries. The resulting triplegs were omitted and the tripleg id of the positionfixes was set to nan\n",
            "  warnings.warn(warn_string)\n"
          ]
        },
        {
          "output_type": "stream",
          "name": "stdout",
          "text": [
            "\n",
            "Number of Triplegs: 135747\n",
            "Triplegs:\n",
            "    user_id                started_at               finished_at                                                                                                                                                                                                                                                                                                                                                                                                                                                                geom\n",
            "id                                                                                                                                                                                                                                                                                                                                                                                                                                                                                                                                 \n",
            "0         0 2024-01-01 06:30:00+00:00 2024-01-02 00:00:00+00:00    LINESTRING (133.000 103.000, 143.000 98.000, 162.000 99.000, 149.000 97.000, 144.000 98.000, 160.000 100.000, 155.000 99.000, 143.000 98.000, 163.000 94.000, 146.000 97.000, 144.000 97.000, 144.000 99.000, 150.000 97.000, 143.000 98.000, 144.000 98.000, 153.000 99.000, 164.000 93.000, 144.000 98.000, 156.000 99.000, 144.000 98.000, 143.000 98.000, 144.000 94.000, 132.000 103.000, 120.000 103.000, 119.000 107.000, 117.000 94.000, 117.000 94.000)\n",
            "1         0 2024-01-02 08:00:00+00:00 2024-01-02 20:00:00+00:00                                                                                                                                                                                                                   LINESTRING (115.000 93.000, 114.000 114.000, 119.000 120.000, 137.000 101.000, 132.000 99.000, 133.000 103.000, 122.000 99.000, 120.000 99.000, 122.000 99.000, 121.000 102.000, 115.000 109.000, 118.000 96.000, 115.000 93.000, 117.000 94.000)\n",
            "2         0 2024-01-03 04:00:00+00:00 2024-01-03 18:30:00+00:00                                                                                                                              LINESTRING (119.000 99.000, 131.000 103.000, 144.000 98.000, 143.000 100.000, 136.000 122.000, 123.000 131.000, 117.000 134.000, 124.000 136.000, 141.000 105.000, 144.000 97.000, 144.000 98.000, 164.000 96.000, 156.000 99.000, 132.000 103.000, 119.000 99.000, 111.000 101.000, 112.000 103.000, 113.000 102.000, 117.000 97.000)\n",
            "3         0 2024-01-04 05:30:00+00:00 2024-01-04 19:30:00+00:00                                            LINESTRING (124.000 99.000, 143.000 98.000, 144.000 101.000, 144.000 109.000, 143.000 98.000, 143.000 98.000, 141.000 109.000, 146.000 105.000, 144.000 108.000, 143.000 111.000, 144.000 98.000, 146.000 103.000, 141.000 108.000, 144.000 100.000, 144.000 99.000, 141.000 110.000, 144.000 100.000, 143.000 99.000, 141.000 109.000, 144.000 97.000, 147.000 103.000, 143.000 98.000, 143.000 98.000, 122.000 99.000)\n",
            "4         0 2024-01-05 04:30:00+00:00 2024-01-05 22:00:00+00:00  LINESTRING (118.000 98.000, 133.000 103.000, 144.000 97.000, 143.000 99.000, 132.000 79.000, 127.000 71.000, 126.000 68.000, 126.000 74.000, 139.000 96.000, 135.000 96.000, 129.000 78.000, 126.000 73.000, 126.000 69.000, 126.000 68.000, 129.000 75.000, 134.000 88.000, 142.000 98.000, 141.000 98.000, 117.000 94.000, 114.000 97.000, 112.000 102.000, 113.000 102.000, 116.000 100.000, 118.000 98.000, 128.000 110.000, 122.000 108.000, 117.000 107.000)\n"
          ]
        }
      ]
    },
    {
      "cell_type": "code",
      "source": [
        "# Display the generated staypoints and triplegs\n",
        "# print(\"Positionfixes:\")\n",
        "# print(pfs_cityD.head())\n",
        "# print(\"Staypoints:\")\n",
        "# print(sp_cityD.head())\n",
        "print(\"\\nTriplegs:\")\n",
        "print(tpls_city.head())"
      ],
      "metadata": {
        "colab": {
          "base_uri": "https://localhost:8080/"
        },
        "id": "ITJs_v55K_Ws",
        "outputId": "b7959855-ffa4-4b20-e89c-3dd448ff822d"
      },
      "execution_count": 16,
      "outputs": [
        {
          "output_type": "stream",
          "name": "stdout",
          "text": [
            "\n",
            "Triplegs:\n",
            "    user_id                started_at               finished_at  \\\n",
            "id                                                                \n",
            "0         0 2024-01-01 06:30:00+00:00 2024-01-02 00:00:00+00:00   \n",
            "1         0 2024-01-02 08:00:00+00:00 2024-01-02 20:00:00+00:00   \n",
            "2         0 2024-01-03 04:00:00+00:00 2024-01-03 18:30:00+00:00   \n",
            "3         0 2024-01-04 05:30:00+00:00 2024-01-04 19:30:00+00:00   \n",
            "4         0 2024-01-05 04:30:00+00:00 2024-01-05 22:00:00+00:00   \n",
            "\n",
            "                                                 geom  \n",
            "id                                                     \n",
            "0   LINESTRING (133.000 103.000, 143.000 98.000, 1...  \n",
            "1   LINESTRING (115.000 93.000, 114.000 114.000, 1...  \n",
            "2   LINESTRING (119.000 99.000, 131.000 103.000, 1...  \n",
            "3   LINESTRING (124.000 99.000, 143.000 98.000, 14...  \n",
            "4   LINESTRING (118.000 98.000, 133.000 103.000, 1...  \n"
          ]
        }
      ]
    },
    {
      "cell_type": "code",
      "source": [
        "tpls_city.to_csv('tpls_cityD.csv')"
      ],
      "metadata": {
        "id": "mVXao2joPaMY"
      },
      "execution_count": 17,
      "outputs": []
    },
    {
      "cell_type": "markdown",
      "source": [
        "Reading the trip leg file"
      ],
      "metadata": {
        "id": "vKsz499i_a9G"
      }
    },
    {
      "cell_type": "code",
      "source": [
        "from shapely.wkt import loads\n",
        "from torch.utils.data import Dataset, DataLoader, random_split\n",
        "from tensorflow.keras.preprocessing.sequence import pad_sequences\n",
        "import torch\n",
        "import torch.nn as nn\n",
        "\n",
        "# Load your dataset (replace with the actual filename)\n",
        "file_path = \"tpls_cityD.csv\"  # Update with your dataset path\n",
        "data = pd.read_csv(file_path)\n",
        "\n",
        "# Parse the 'geom' column to extract coordinates\n",
        "def extract_coordinates(linestring):\n",
        "    geom = loads(linestring)  # Convert WKT string to Shapely geometry\n",
        "    return list(geom.coords)\n",
        "\n",
        "# # Define the LSTM Model\n",
        "# class LocationLSTM(nn.Module):\n",
        "#     def __init__(self, input_size, hidden_size, output_size):\n",
        "#         super(LocationLSTM, self).__init__()\n",
        "#         self.hidden_size = hidden_size\n",
        "#         self.lstm = nn.LSTM(input_size, hidden_size, batch_first=True)\n",
        "#         self.fc = nn.Sequential(\n",
        "#             nn.Linear(hidden_size, 128),\n",
        "#             nn.ReLU(),\n",
        "#             nn.Linear(128, output_size)\n",
        "#         )\n",
        "\n",
        "#     def forward(self, x):\n",
        "#         output, (hn, cn) = self.lstm(x)\n",
        "#         out = self.fc(hn[-1])  # Use the last hidden state for prediction\n",
        "#         return out\n",
        "\n",
        "class LocationLSTM(nn.Module):\n",
        "    def __init__(self, input_size, hidden_size, output_size):\n",
        "        super(LocationLSTM, self).__init__()\n",
        "        self.hidden_size = hidden_size\n",
        "        self.lstm = nn.LSTM(input_size, hidden_size, batch_first=True)\n",
        "        self.fc = nn.Linear(hidden_size, output_size)  # Single linear layer\n",
        "\n",
        "    def forward(self, x):\n",
        "        output, (hn, cn) = self.lstm(x)\n",
        "        out = self.fc(hn[-1])  # Use the last hidden state for prediction\n",
        "        return out\n",
        "\n",
        "# Custom Dataset\n",
        "class LocationDataset(Dataset):\n",
        "    def __init__(self, inputs, labels):\n",
        "        self.inputs = inputs\n",
        "        self.labels = labels\n",
        "\n",
        "    def __len__(self):\n",
        "        return len(self.inputs)\n",
        "\n",
        "    def __getitem__(self, idx):\n",
        "        return self.inputs[idx], self.labels[idx]\n",
        "\n",
        "# Extract input sequences and labels\n",
        "inputs = []\n",
        "labels = []\n",
        "\n",
        "# Check if GPU is available\n",
        "device = torch.device(\"cuda\" if torch.cuda.is_available() else \"cpu\")\n",
        "print(f\"Using device: {device}\")\n",
        "\n",
        "for index, row in data.iterrows():\n",
        "    coordinates = extract_coordinates(row['geom'])\n",
        "\n",
        "    if len(coordinates) > 2:\n",
        "        inputs.append(coordinates[:-1])  # All but last coordinate\n",
        "        labels.append(coordinates[-1:])  # get last coordinate\n",
        "\n",
        "# Convert inputs and labels to arrays\n",
        "inputs = pad_sequences(inputs, padding='post', dtype='float32')  # Pad sequences\n",
        "labels = np.array(labels)\n",
        "\n",
        "# Convert data to tensors\n",
        "inputs_tensor = torch.tensor(inputs, dtype=torch.float32)\n",
        "labels_tensor = torch.tensor(labels, dtype=torch.float32).squeeze(1)\n",
        "\n",
        "# Create the full dataset\n",
        "dataset = LocationDataset(inputs_tensor, labels_tensor)\n",
        "\n",
        "# Split dataset into train, validation, and test sets\n",
        "train_size = int(0.7 * len(dataset))  # 70% for training\n",
        "val_size = int(0.15 * len(dataset))   # 15% for validation\n",
        "test_size = len(dataset) - train_size - val_size  # 15% for testing\n",
        "train_dataset, val_dataset, test_dataset = random_split(dataset, [train_size, val_size, test_size])\n",
        "\n",
        "# Create DataLoaders for train, validation, and test datasets\n",
        "train_loader = DataLoader(train_dataset, batch_size=8, shuffle=True, num_workers=2, prefetch_factor=2)\n",
        "val_loader = DataLoader(val_dataset, batch_size=8, shuffle=False, num_workers=2, prefetch_factor=2)\n",
        "test_loader = DataLoader(test_dataset, batch_size=8, shuffle=False, num_workers=2, prefetch_factor=2)\n"
      ],
      "metadata": {
        "colab": {
          "base_uri": "https://localhost:8080/"
        },
        "id": "Udq-u_uQ_as9",
        "outputId": "b71e624b-1b1d-4a65-b76c-3568ef871a49"
      },
      "execution_count": 18,
      "outputs": [
        {
          "output_type": "stream",
          "name": "stdout",
          "text": [
            "Using device: cuda\n"
          ]
        }
      ]
    },
    {
      "cell_type": "markdown",
      "source": [
        "Training the model"
      ],
      "metadata": {
        "id": "dAUS-N6KhrF1"
      }
    },
    {
      "cell_type": "code",
      "source": [
        "# Initialize the model, loss function, and optimizer\n",
        "input_size = 2\n",
        "hidden_size = 128\n",
        "output_size = 2\n",
        "learning_rate = 1e-3\n",
        "epochs = 50\n",
        "\n",
        "model = LocationLSTM(input_size, hidden_size, output_size).to(device)  # Move model to GPU\n",
        "optimizer = torch.optim.Adam(model.parameters(), lr=learning_rate)\n",
        "criterion = nn.MSELoss()\n",
        "\n",
        "best_loss = float('inf')  # Initialize best loss to a very large value\n",
        "best_model_path = \"/content/drive/MyDrive/NTU/Y4S1/best_lstm_model_2.pth\"\n",
        "\n",
        "# Training Loop\n",
        "for epoch in range(epochs):\n",
        "    model.train()\n",
        "    epoch_loss = 0.0\n",
        "    for batch_inputs, batch_labels in train_loader:\n",
        "        # Move data to the same device as the model\n",
        "        batch_inputs, batch_labels = batch_inputs.to(device), batch_labels.to(device)\n",
        "        optimizer.zero_grad()\n",
        "        predictions = model(batch_inputs)\n",
        "        loss = criterion(predictions, batch_labels)\n",
        "        loss.backward()\n",
        "        optimizer.step()\n",
        "        epoch_loss += loss.item()\n",
        "\n",
        "    # Calculate average loss for this epoch\n",
        "    avg_train_loss = epoch_loss / len(train_loader)\n",
        "\n",
        "    model.eval()\n",
        "    val_loss = 0.0\n",
        "    with torch.no_grad():\n",
        "        for val_inputs, val_labels in val_loader:\n",
        "            val_inputs, val_labels = val_inputs.to(device), val_labels.to(device)\n",
        "            val_predictions = model(val_inputs)\n",
        "            loss = criterion(val_predictions, val_labels)\n",
        "            val_loss += loss.item()\n",
        "\n",
        "    avg_val_loss = val_loss / len(val_loader)\n",
        "\n",
        "    # Save the model if the validation loss improves\n",
        "    if avg_val_loss < best_loss:\n",
        "        best_loss = avg_val_loss\n",
        "        torch.save(model.state_dict(), best_model_path)\n",
        "        print(f\"Epoch [{epoch+1}/{epochs}], Validation Loss Improved: {avg_val_loss:.4f}. Model Saved!\")\n",
        "\n",
        "    print(f\"Epoch [{epoch+1}/{epochs}], Train Loss: {avg_train_loss:.4f}, Validation Loss: {avg_val_loss:.4f}\")\n",
        "\n",
        "# Evaluate the best model on the test set\n",
        "model.load_state_dict(torch.load(best_model_path))  # Load the best model\n",
        "model.eval()  # Set model to evaluation mode\n",
        "test_loss = 0.0\n",
        "with torch.no_grad():\n",
        "    for batch_inputs, batch_labels in test_loader:\n",
        "        batch_inputs, batch_labels = batch_inputs.to(device), batch_labels.to(device)\n",
        "        predictions = model(batch_inputs)\n",
        "        loss = criterion(predictions, batch_labels)\n",
        "        test_loss += loss.item()\n",
        "\n",
        "print(f\"Test Loss: {test_loss / len(test_loader):.4f}\")"
      ],
      "metadata": {
        "colab": {
          "base_uri": "https://localhost:8080/"
        },
        "id": "G3RLF1HfhqoD",
        "outputId": "63b75544-de69-48f9-8b05-2e64c635c7d7"
      },
      "execution_count": null,
      "outputs": [
        {
          "output_type": "stream",
          "name": "stdout",
          "text": [
            "Epoch [1/50], Validation Loss Improved: 1979.9577. Model Saved!\n",
            "Epoch [1/50], Train Loss: 2273.4507, Validation Loss: 1979.9577\n",
            "Epoch [2/50], Validation Loss Improved: 1625.8793. Model Saved!\n",
            "Epoch [2/50], Train Loss: 1940.0874, Validation Loss: 1625.8793\n",
            "Epoch [3/50], Validation Loss Improved: 379.0939. Model Saved!\n",
            "Epoch [3/50], Train Loss: 930.9737, Validation Loss: 379.0939\n",
            "Epoch [4/50], Validation Loss Improved: 112.8097. Model Saved!\n",
            "Epoch [4/50], Train Loss: 155.5570, Validation Loss: 112.8097\n",
            "Epoch [5/50], Validation Loss Improved: 107.0861. Model Saved!\n",
            "Epoch [5/50], Train Loss: 116.3423, Validation Loss: 107.0861\n",
            "Epoch [6/50], Validation Loss Improved: 95.9580. Model Saved!\n",
            "Epoch [6/50], Train Loss: 108.1563, Validation Loss: 95.9580\n",
            "Epoch [7/50], Train Loss: 101.8300, Validation Loss: 113.3768\n",
            "Epoch [8/50], Train Loss: 99.6687, Validation Loss: 118.1898\n",
            "Epoch [9/50], Train Loss: 117.0212, Validation Loss: 113.6159\n",
            "Epoch [10/50], Train Loss: 98.8212, Validation Loss: 98.3839\n",
            "Epoch [11/50], Validation Loss Improved: 91.6788. Model Saved!\n",
            "Epoch [11/50], Train Loss: 96.8530, Validation Loss: 91.6788\n",
            "Epoch [12/50], Train Loss: 200.0163, Validation Loss: 267.7650\n",
            "Epoch [13/50], Train Loss: 227.5841, Validation Loss: 107.6478\n",
            "Epoch [14/50], Train Loss: 113.3987, Validation Loss: 185.9961\n",
            "Epoch [15/50], Train Loss: 102.7724, Validation Loss: 97.0701\n",
            "Epoch [16/50], Train Loss: 99.9617, Validation Loss: 99.9569\n",
            "Epoch [17/50], Train Loss: 97.0730, Validation Loss: 98.1723\n",
            "Epoch [18/50], Train Loss: 94.2856, Validation Loss: 100.5865\n",
            "Epoch [19/50], Validation Loss Improved: 91.3988. Model Saved!\n",
            "Epoch [19/50], Train Loss: 93.3849, Validation Loss: 91.3988\n",
            "Epoch [20/50], Train Loss: 91.8445, Validation Loss: 93.4791\n",
            "Epoch [21/50], Train Loss: 90.7312, Validation Loss: 92.1044\n",
            "Epoch [22/50], Train Loss: 90.7124, Validation Loss: 104.0206\n",
            "Epoch [23/50], Validation Loss Improved: 89.1228. Model Saved!\n",
            "Epoch [23/50], Train Loss: 90.2983, Validation Loss: 89.1228\n",
            "Epoch [24/50], Train Loss: 89.4307, Validation Loss: 91.2519\n",
            "Epoch [25/50], Train Loss: 88.1439, Validation Loss: 92.2427\n",
            "Epoch [26/50], Train Loss: 96.8580, Validation Loss: 90.4563\n",
            "Epoch [27/50], Train Loss: 89.9921, Validation Loss: 98.6972\n",
            "Epoch [28/50], Validation Loss Improved: 87.7702. Model Saved!\n",
            "Epoch [28/50], Train Loss: 87.8755, Validation Loss: 87.7702\n",
            "Epoch [29/50], Train Loss: 87.9963, Validation Loss: 94.4579\n",
            "Epoch [30/50], Train Loss: 89.6960, Validation Loss: 94.6257\n",
            "Epoch [31/50], Train Loss: 101.6979, Validation Loss: 96.8561\n",
            "Epoch [32/50], Train Loss: 94.6441, Validation Loss: 94.5760\n",
            "Epoch [33/50], Train Loss: 241.2907, Validation Loss: 146.7896\n",
            "Epoch [34/50], Train Loss: 120.6665, Validation Loss: 193.5989\n",
            "Epoch [35/50], Train Loss: 115.4401, Validation Loss: 98.7399\n",
            "Epoch [36/50], Train Loss: 108.3093, Validation Loss: 118.8257\n",
            "Epoch [37/50], Train Loss: 100.4699, Validation Loss: 96.1544\n",
            "Epoch [38/50], Train Loss: 93.9189, Validation Loss: 93.6728\n",
            "Epoch [39/50], Train Loss: 111.7959, Validation Loss: 102.6859\n",
            "Epoch [40/50], Train Loss: 99.7342, Validation Loss: 96.0957\n",
            "Epoch [41/50], Validation Loss Improved: 86.8505. Model Saved!\n",
            "Epoch [41/50], Train Loss: 92.4629, Validation Loss: 86.8505\n",
            "Epoch [42/50], Train Loss: 94.7672, Validation Loss: 98.2277\n",
            "Epoch [43/50], Train Loss: 90.3793, Validation Loss: 88.4884\n",
            "Epoch [44/50], Train Loss: 89.7998, Validation Loss: 90.5557\n",
            "Epoch [45/50], Train Loss: 88.2264, Validation Loss: 87.3873\n",
            "Epoch [46/50], Train Loss: 88.0078, Validation Loss: 89.1347\n",
            "Epoch [47/50], Train Loss: 87.3468, Validation Loss: 89.5162\n",
            "Epoch [48/50], Validation Loss Improved: 86.5253. Model Saved!\n",
            "Epoch [48/50], Train Loss: 86.4438, Validation Loss: 86.5253\n",
            "Epoch [49/50], Train Loss: 85.9623, Validation Loss: 89.9015\n",
            "Epoch [50/50], Train Loss: 85.4465, Validation Loss: 96.2833\n"
          ]
        },
        {
          "output_type": "stream",
          "name": "stderr",
          "text": [
            "<ipython-input-4-b7650cf84e5e>:52: FutureWarning: You are using `torch.load` with `weights_only=False` (the current default value), which uses the default pickle module implicitly. It is possible to construct malicious pickle data which will execute arbitrary code during unpickling (See https://github.com/pytorch/pytorch/blob/main/SECURITY.md#untrusted-models for more details). In a future release, the default value for `weights_only` will be flipped to `True`. This limits the functions that could be executed during unpickling. Arbitrary objects will no longer be allowed to be loaded via this mode unless they are explicitly allowlisted by the user via `torch.serialization.add_safe_globals`. We recommend you start setting `weights_only=True` for any use case where you don't have full control of the loaded file. Please open an issue on GitHub for any issues related to this experimental feature.\n",
            "  model.load_state_dict(torch.load(best_model_path))  # Load the best model\n"
          ]
        },
        {
          "output_type": "stream",
          "name": "stdout",
          "text": [
            "Test Loss: 84.4761\n"
          ]
        }
      ]
    },
    {
      "cell_type": "markdown",
      "source": [
        "Loading the model and testing the model"
      ],
      "metadata": {
        "id": "IoVXz2WYArcE"
      }
    },
    {
      "cell_type": "code",
      "source": [
        "# Initialize the model, loss function, and optimizer\n",
        "input_size = 2\n",
        "hidden_size = 128\n",
        "output_size = 2\n",
        "\n",
        "model = LocationLSTM(input_size, hidden_size, output_size).to(device)  # Move model to GPU\n",
        "# optimizer = torch.optim.Adam(model.parameters(), lr=learning_rate)\n",
        "criterion = nn.MSELoss()\n",
        "\n",
        "best_model_path = \"/content/drive/MyDrive/NTU/Y4S1/best_lstm_model_2.pth\"\n",
        "# best_model_path = \"cityA.pth\"\n",
        "\n",
        "# Load the trained model weights\n",
        "model.load_state_dict(torch.load(best_model_path))\n",
        "\n",
        "# Set the model to evaluation mode\n",
        "model.eval()\n",
        "\n",
        "# Initialize variables for loss and predictions\n",
        "test_loss = 0.0\n",
        "all_predictions = []\n",
        "all_labels = []\n",
        "\n",
        "# Evaluation using the test_loader\n",
        "with torch.no_grad():  # Disable gradient computation\n",
        "    for batch_inputs, batch_labels in test_loader:\n",
        "        # Move data to the same device as the model\n",
        "        batch_inputs, batch_labels = batch_inputs.to(device), batch_labels.to(device)\n",
        "\n",
        "        # Make predictions\n",
        "        predictions = model(batch_inputs)\n",
        "\n",
        "        # Calculate loss (optional, for evaluation)\n",
        "        loss = criterion(predictions, batch_labels)\n",
        "        test_loss += loss.item()\n",
        "\n",
        "        # Collect predictions and labels for further analysis\n",
        "        all_predictions.append(predictions.cpu().numpy())\n",
        "        all_labels.append(batch_labels.cpu().numpy())\n",
        "\n",
        "# Calculate average test loss\n",
        "avg_test_loss = test_loss / len(test_loader)\n",
        "print(f\"Average Test Loss: {avg_test_loss:.4f}\")\n",
        "\n",
        "# Process predictions (e.g., flatten arrays)\n",
        "all_predictions = np.concatenate(all_predictions, axis=0)\n",
        "all_labels = np.concatenate(all_labels, axis=0)\n",
        "\n",
        "# Display or analyze results\n",
        "print(\"Predictions:\", all_predictions)\n",
        "print(\"Ground Truth Labels:\", all_labels)"
      ],
      "metadata": {
        "colab": {
          "base_uri": "https://localhost:8080/"
        },
        "id": "D6ySe8NzTt-c",
        "outputId": "765b8db0-5268-4140-95cb-474d9c7c8de1"
      },
      "execution_count": 19,
      "outputs": [
        {
          "output_type": "stream",
          "name": "stderr",
          "text": [
            "<ipython-input-19-e1858a05eeb6>:14: FutureWarning: You are using `torch.load` with `weights_only=False` (the current default value), which uses the default pickle module implicitly. It is possible to construct malicious pickle data which will execute arbitrary code during unpickling (See https://github.com/pytorch/pytorch/blob/main/SECURITY.md#untrusted-models for more details). In a future release, the default value for `weights_only` will be flipped to `True`. This limits the functions that could be executed during unpickling. Arbitrary objects will no longer be allowed to be loaded via this mode unless they are explicitly allowlisted by the user via `torch.serialization.add_safe_globals`. We recommend you start setting `weights_only=True` for any use case where you don't have full control of the loaded file. Please open an issue on GitHub for any issues related to this experimental feature.\n",
            "  model.load_state_dict(torch.load(best_model_path))\n"
          ]
        },
        {
          "output_type": "stream",
          "name": "stdout",
          "text": [
            "Average Test Loss: 83.5979\n",
            "Predictions: [[106.88886  102.904724]\n",
            " [ 86.96301  110.650955]\n",
            " [197.0793    56.769814]\n",
            " ...\n",
            " [110.22112  118.0504  ]\n",
            " [115.22315  120.516014]\n",
            " [101.80196  115.29451 ]]\n",
            "Ground Truth Labels: [[104. 103.]\n",
            " [ 90. 109.]\n",
            " [200.  67.]\n",
            " ...\n",
            " [108. 113.]\n",
            " [115. 121.]\n",
            " [101. 116.]]\n"
          ]
        }
      ]
    },
    {
      "cell_type": "code",
      "source": [
        "from sklearn.metrics import mean_squared_error\n",
        "mse = mean_squared_error(all_labels, all_predictions)\n",
        "print(f\"Mean Squared Error (MSE): {mse:.4f}\")"
      ],
      "metadata": {
        "id": "hUam1YS3lojj",
        "colab": {
          "base_uri": "https://localhost:8080/"
        },
        "outputId": "6e6076b9-0a33-477e-8e9c-d65e74c5c7f3"
      },
      "execution_count": 20,
      "outputs": [
        {
          "output_type": "stream",
          "name": "stdout",
          "text": [
            "Mean Squared Error (MSE): 83.6137\n"
          ]
        }
      ]
    },
    {
      "cell_type": "code",
      "source": [],
      "metadata": {
        "id": "4EObs705WdNH"
      },
      "execution_count": null,
      "outputs": []
    }
  ]
}